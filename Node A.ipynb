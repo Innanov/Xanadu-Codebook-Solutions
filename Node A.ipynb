{
 "cells": [
  {
   "cell_type": "code",
   "execution_count": 1,
   "metadata": {},
   "outputs": [],
   "source": [
    "import pennylane as qml\n",
    "import numpy as np\n",
    "import matplotlib.pyplot as plt"
   ]
  },
  {
   "attachments": {},
   "cell_type": "markdown",
   "metadata": {},
   "source": [
    "# A.1 No exponential magic"
   ]
  },
  {
   "attachments": {},
   "cell_type": "markdown",
   "metadata": {},
   "source": [
    "Quantum computers use qubits that can be in a superposition of quantum states 0 and 1. When multiple qubits are in superposition, they form a tensor product, which is a superposition over every combination of the qubits' quantum states. This creates an exponential number of terms in the superposition, but when a measurement is taken, only one term is observed, giving a random snapshot of the system. The challenge is to design algorithms that shuffle the exponential collection of terms so that the measurement has a high probability of giving the desired result. Simply having a superposition does not automatically result in an exponential speedup compared to classical computing, as the outcome is still probabilistic and subject to randomness."
   ]
  },
  {
   "attachments": {},
   "cell_type": "markdown",
   "metadata": {},
   "source": [
    "## Codercise A.1.1."
   ]
  },
  {
   "attachments": {},
   "cell_type": "markdown",
   "metadata": {},
   "source": [
    " Fill in the following code to create the uniform superposition over $n$ qubits. It will plot the probability of observing different outcomes. Does putting the circuit in a uniform superposition help us break the lock?\n",
    "\n",
    "Note. The pass is a placeholder you will replace with your code."
   ]
  },
  {
   "attachments": {},
   "cell_type": "markdown",
   "metadata": {},
   "source": [
    "The goal of the task is to create a uniform superposition over all possible -bit strings, and then measure the qubits to see if the lock's combination is obtained. To do this, the Hadamard gate is applied to each of the qubits. Then, the final state is measured and the probabilities of observing each outcome are calculated. The question asks whether putting the circuit in a uniform superposition helps break the lock, which is answered by examining the resulting probabilities."
   ]
  },
  {
   "cell_type": "code",
   "execution_count": 2,
   "metadata": {},
   "outputs": [],
   "source": [
    "n_bits = 4\n",
    "dev = qml.device(\"default.qubit\", wires=n_bits)\n",
    "\n",
    "\n",
    "@qml.qnode(dev)\n",
    "def naive_circuit():\n",
    "    \"\"\"Create a uniform superposition and return the probabilities.\n",
    "\n",
    "    Returns:\n",
    "        array[float]: Probabilities for observing different outcomes.\n",
    "    \"\"\"\n",
    "    for wire in range(n_bits):\n",
    "        qml.Hadamard(wires=wire)\n",
    "\n",
    "    return qml.probs(wires=range(n_bits))"
   ]
  },
  {
   "attachments": {},
   "cell_type": "markdown",
   "metadata": {},
   "source": [
    "The code defines a quantum function `naive_circuit` that runs on a quantum device dev with `n_bits = 4` wires. The function creates a uniform superposition on each wire by applying a Hadamard gate to each wire. Finally, the function returns the probabilities for observing different outcomes by calling the `qml.probs` function on the range of all wires."
   ]
  },
  {
   "attachments": {},
   "cell_type": "markdown",
   "metadata": {},
   "source": [
    "# A.2 The magic 8-ball"
   ]
  },
  {
   "attachments": {},
   "cell_type": "markdown",
   "metadata": {},
   "source": [
    "In quantum algorithms, an oracle is a black box that performs some function and provides a result to the algorithm, without revealing the inner workings of the function. The function is modeled as a unitary matrix applied to computational basis states. The quantum version of breaking a lock can be thought of as asking the oracle if a combination works, and the oracle provides a \"yes\" or \"no\" answer by putting the answer into a phase. This is done by encoding the answer as a unitary operator that acts on basis states. The oracle can be written in terms of the identity matrix and the projector, and it can be shown that the oracle is unitary."
   ]
  },
  {
   "attachments": {},
   "cell_type": "markdown",
   "metadata": {},
   "source": [
    "## Codercise A.2.1."
   ]
  },
  {
   "attachments": {},
   "cell_type": "markdown",
   "metadata": {},
   "source": [
    "Write a function which returns the oracle in matrix form for a given secret combination."
   ]
  },
  {
   "attachments": {},
   "cell_type": "markdown",
   "metadata": {},
   "source": [
    "The simplest way to do this is to create the identity matrix $\\mathbb{I}$ and then flip the sign of the amplitude corresponding to the correct combination using the projector:\n",
    "\n",
    "$$\n",
    "U_f = \\mathbb{I} - 2 \\ket{s} \\bra{s}\n",
    "$$\n",
    "\n",
    "This represents the oracle operation that changes the sign of the amplitude corresponding to the correct combination. In quantum algorithms, oracles are used to determine if a guess is correct or not, and the oracle's action is modeled as a unitary matrix applied to computational basis states."
   ]
  },
  {
   "cell_type": "code",
   "execution_count": 3,
   "metadata": {},
   "outputs": [],
   "source": [
    "def oracle_matrix(combo):\n",
    "    \"\"\"Return the oracle matrix for a secret combination.\n",
    "\n",
    "    Args:\n",
    "        combo (list[int]): A list of bits representing a secret combination.\n",
    "\n",
    "    Returns:\n",
    "        array[float]: The matrix representation of the oracle.\n",
    "    \"\"\"\n",
    "    index = np.ravel_multi_index(combo, [2] * len(combo))  # Index of solution\n",
    "    my_array = np.identity(2 ** len(combo))  # Create the identity matrix\n",
    "\n",
    "    my_array[index, index] = -1\n",
    "\n",
    "    return my_array"
   ]
  },
  {
   "attachments": {},
   "cell_type": "markdown",
   "metadata": {},
   "source": [
    "This function takes in a list `combo` of bits representing a secret combination and returns the matrix representation of the oracle for that combination. The function first calculates the index of the solution. It then creates the identity matrix and changes the sign of the element in the index corresponding to the solution. Finally, it returns the modified identity matrix as the oracle matrix."
   ]
  },
  {
   "attachments": {},
   "cell_type": "markdown",
   "metadata": {},
   "source": [
    "## Codercise A.2.2"
   ]
  },
  {
   "attachments": {},
   "cell_type": "markdown",
   "metadata": {},
   "source": [
    "Write a circuit which applies the oracle to the uniform superposition. The oracle matrix function from the previous exercise is available for you as `oracle_matrix`. The supplied code will plot the resulting probability distribution. Has applying the oracle helped us break the lock?\n",
    "\n",
    "Tip. Use PennyLane's `QubitUnitary()` operation."
   ]
  },
  {
   "cell_type": "code",
   "execution_count": 4,
   "metadata": {},
   "outputs": [],
   "source": [
    "n_bits = 4\n",
    "dev = qml.device(\"default.qubit\", wires=n_bits)\n",
    "\n",
    "\n",
    "@qml.qnode(dev)\n",
    "def oracle_circuit(combo):\n",
    "    \"\"\"\n",
    "    Define the oracle circuit for a given combination `combo`\n",
    "\n",
    "    Args:\n",
    "    ------\n",
    "\n",
    "        `combo` (`int` or `str`): The secret combination to be used in the oracle circuit.\n",
    "\n",
    "    Returns:\n",
    "    --------\n",
    "\n",
    "        `array`: The probabilities of each bit being measured in the '0' state or the '1' state.\n",
    "    \"\"\"\n",
    "    # Uniform superposition\n",
    "    for wire in range(n_bits):\n",
    "        qml.Hadamard(wires=wire)\n",
    "\n",
    "    # Apply U_f\n",
    "    qml.QubitUnitary(oracle_matrix(combo), wires=list(range(n_bits)))\n",
    "\n",
    "    # Return probabilities\n",
    "    return qml.probs(wires=range(n_bits))"
   ]
  },
  {
   "attachments": {},
   "cell_type": "markdown",
   "metadata": {},
   "source": [
    "This code implements the oracle circuit. It starts by preparing a uniform superposition of all computational basis states on `n_bits` qubits using the `Hadamard` gate. Then it applies the oracle operation defined by the `oracle_matrix` function to each qubit. Finally, it returns the probabilities of measuring each basis state by calling the `probs` function. The `oracle_matrix` function takes a secret combination as input and returns the oracle matrix representation for this combination."
   ]
  },
  {
   "attachments": {},
   "cell_type": "markdown",
   "metadata": {},
   "source": [
    "# A.3 Pair programming"
   ]
  },
  {
   "attachments": {},
   "cell_type": "markdown",
   "metadata": {},
   "source": [
    "In pair programming, the oracle is applied to a pair of candidate solutions to determine if the secret combination is present. The algorithm works by dividing the full set of strings into pairs based on the first $n-1$ bits, labeled by $\\ket{\\tilde{x}}$. The linear combination of the two solutions in the pair is then applied to the oracle, which results in a phase change in one of the solutions. The last qubit is then measured to determine which solution has undergone a phase change. If the solution has undergone a phase change, then the correct combination is either the first or the second solution in the pair.\n",
    "\n",
    "The average number of queries required to find a solution when testing in pairs is $2^{n-1}$. For an n-bit solution, if the position of the combination is random and uniform in the list, the average number of pairs required to test is $\\frac{2^{n-1} + 1}{2}$."
   ]
  },
  {
   "cell_type": "markdown",
   "metadata": {},
   "source": [
    "## Codercise A.3.1. "
   ]
  },
  {
   "attachments": {},
   "cell_type": "markdown",
   "metadata": {},
   "source": [
    "Implement this circuit and return the probabilities on the last qubit. The function `oracle_matrix` is defined for you. "
   ]
  },
  {
   "attachments": {},
   "cell_type": "markdown",
   "metadata": {},
   "source": [
    "The strategy for finding the solution using the oracle is to iterate through all n-bit strings in pairs, labelled by an n-bit string, and apply the oracle to the superposition. If the solution is present, there will be a relative phase change that can be observed by applying the Hadamard operator to the last qubit. The final state of the last qubit will be in the state if the solution is present, and if it is not. The average number of pairs required to find the solution is $\\frac{2^{n-1} + 1}{2}$."
   ]
  },
  {
   "cell_type": "code",
   "execution_count": 5,
   "metadata": {},
   "outputs": [],
   "source": [
    "n_bits = 4\n",
    "dev = qml.device(\"default.qubit\", wires=n_bits)\n",
    "\n",
    "\n",
    "@qml.qnode(dev)\n",
    "def pair_circuit(x_tilde, combo):\n",
    "    \"\"\"Test a pair labelled by `x_tilde` for the presence of a solution.\n",
    "\n",
    "    Args:\n",
    "    ------\n",
    "\n",
    "        `x_tilde` (`list[int]`): An `(n_bits - 1)`-string labelling the pair to test.\n",
    "        `combo` (`list[int]`): A secret combination of `n_bits` 0s and 1s.\n",
    "\n",
    "    Returns:\n",
    "    --------\n",
    "\n",
    "        `array[float]`: Probabilities on the last qubit.\n",
    "    \"\"\"\n",
    "    for i in range(n_bits - 1):  # Initialize x_tilde part of state\n",
    "        if x_tilde[i] == 1:\n",
    "            qml.PauliX(wires=i)\n",
    "\n",
    "    # Apply the circuit\n",
    "    qml.Hadamard(wires=n_bits - 1)\n",
    "    qml.QubitUnitary(oracle_matrix(combo), wires=list(range(n_bits)))\n",
    "    qml.Hadamard(wires=n_bits - 1)\n",
    "\n",
    "    return qml.probs(wires=n_bits - 1)"
   ]
  },
  {
   "attachments": {},
   "cell_type": "markdown",
   "metadata": {},
   "source": [
    "This code defines a quantum circuit called `pair_circuit` which is intended to test a pair of binary strings for the presence of a solution. The `pair_circuit` function takes two inputs, `x_tilde` and `combo`. The `x_tilde` argument is a list of `n_bits - 1` 0s and 1s that labels the pair being tested, and `combo` is a secret combination of `n_bits` 0s and 1s.\n",
    "\n",
    "The circuit starts by initializing the `x_tilde` part of the quantum state by applying a Pauli X gate to the qubits corresponding to 1s in the `x_tilde` string. The circuit then applies a `Hadamard` gate to the last qubit, followed by the oracle circuit, and then another `Hadamard` gate to the last qubit. The final result is the probabilities of observing 0 or 1 on the last qubit, which are returned by the `qml.probs` function. The device the circuit runs on is defined as the default qubit device with `n_bits` wires."
   ]
  },
  {
   "attachments": {},
   "cell_type": "markdown",
   "metadata": {},
   "source": [
    "## Codercise A.3.2."
   ]
  },
  {
   "attachments": {},
   "cell_type": "markdown",
   "metadata": {},
   "source": [
    "Complete the function below to see how many attempts it takes to break the lock using our quantum circuit. You should find an improvement over the brute force approach, which takes around 9 guesses (on average) for 4 qubits. Note that `pair_circuit` is available.\n",
    "\n",
    "Tip. Use `np.isclose(a, b)` to test the probabilities coming from `pair_circuit(x_tilde, combo)`."
   ]
  },
  {
   "cell_type": "code",
   "execution_count": 6,
   "metadata": {},
   "outputs": [],
   "source": [
    "import random\n",
    "\n",
    "\n",
    "def secret_combo(n_bits):\n",
    "    \"\"\"Generates a random boolean number of length `n_bits`.\n",
    "\n",
    "    Args:\n",
    "    ------\n",
    "        `n_bits` (int): Length of the boolean number to generate.\n",
    "\n",
    "    Returns:\n",
    "    -------\n",
    "        list[int]: A list of 0s and 1s of length `n_bits`.\n",
    "\n",
    "    Example:\n",
    "    --------\n",
    "    >>> secret_combo(3)\n",
    "    [1, 0, 1]\n",
    "    \"\"\"\n",
    "    return [random.choice([0, 1]) for i in range(n_bits)]"
   ]
  },
  {
   "attachments": {},
   "cell_type": "markdown",
   "metadata": {},
   "source": [
    "The `secret_combo` function generates a random boolean number of length `n_bits` by using a for loop to repeatedly choose a random 0 or 1 and append it to a list. The function takes as input an integer `n_bits` which specifies the length of the boolean number to generate. The output of the function is a list of `n_bits` elements, each of which is either 0 or 1, representing the random boolean number. The function uses the `random.choice` function from the random module to choose either 0 or 1 randomly in each iteration of the for loop."
   ]
  },
  {
   "cell_type": "code",
   "execution_count": 7,
   "metadata": {},
   "outputs": [
    {
     "name": "stdout",
     "output_type": "stream",
     "text": [
      "For 4 bits, it takes 4.378 pair tests on average.\n"
     ]
    }
   ],
   "source": [
    "def pair_lock_picker(trials):\n",
    "    \"\"\"Create a `combo`, run `pair_circuit` until it succeeds, and tally success rate.\n",
    "\n",
    "    Args:\n",
    "    ------\n",
    "\n",
    "        `trials` (`int`): Number of times to test the lock picker.\n",
    "\n",
    "    Returns:\n",
    "    ---------\n",
    "\n",
    "        `float`: The average number of times the lock picker uses `pair_circuit`.\n",
    "    \"\"\"\n",
    "    x_tilde_strs = [np.binary_repr(n, n_bits - 1) for n in range(2 ** (n_bits - 1))]\n",
    "    x_tildes = [[int(s) for s in x_tilde_str] for x_tilde_str in x_tilde_strs]\n",
    "\n",
    "    test_numbers = []\n",
    "\n",
    "    for trial in range(trials):\n",
    "        combo = secret_combo(n_bits)  # Random list of bits\n",
    "        counter = 0\n",
    "        for x_tilde in x_tildes:\n",
    "            counter += 1\n",
    "\n",
    "            if np.isclose(pair_circuit(x_tilde, combo)[1], 1):\n",
    "                break\n",
    "\n",
    "        test_numbers.append(counter)\n",
    "    return sum(test_numbers) / trials\n",
    "\n",
    "\n",
    "trials = 500\n",
    "output = pair_lock_picker(trials)\n",
    "\n",
    "print(f\"For {n_bits} bits, it takes\", output, \"pair tests on average.\")"
   ]
  },
  {
   "attachments": {},
   "cell_type": "markdown",
   "metadata": {},
   "source": [
    "The function `pair_lock_picker` implements the pair testing algorithm for the lock picking problem. It creates a secret combination combo of bits, and then repeatedly tests pairs of bits using the `pair_circuit` function until it succeeds in finding the solution. The average number of pair tests required over trials trials is returned as the output of the function."
   ]
  },
  {
   "attachments": {},
   "cell_type": "markdown",
   "metadata": {},
   "source": [
    "# A.4 Making and breaking promises"
   ]
  },
  {
   "attachments": {},
   "cell_type": "markdown",
   "metadata": {},
   "source": [
    "The author is discussing the importance of global information and promises in the design of algorithms. They use the example of a lock-picking algorithm to illustrate their point. The algorithm works by testing pairs of combinations to see if they open the lock. If the number of solutions (i.e. combinations that open the lock) is odd, the algorithm is guaranteed to eventually find a solution. However, if the number of solutions is even, the algorithm might get unlucky and miss the solutions because they come in pairs. In that case, the algorithm can still determine the parity of the solution set by counting the number of phase changes it observes. This gives the algorithm a way to determine global information about the function, in this case, the parity of the solution set. The author notes that global assumptions about the function, such as the parity of the solution set, can greatly impact the performance of the algorithm. These global assumptions are called \"promises\" and are an important aspect of quantum algorithms."
   ]
  },
  {
   "cell_type": "markdown",
   "metadata": {},
   "source": [
    "## Codercise A.4.1. "
   ]
  },
  {
   "attachments": {},
   "cell_type": "markdown",
   "metadata": {},
   "source": [
    "<center>\n",
    "<img src='./img/a.4.1.png' style='width:40%; height:40%;'>\n",
    "</center>"
   ]
  },
  {
   "attachments": {},
   "cell_type": "markdown",
   "metadata": {},
   "source": [
    "Implement the circuit above, but now for `how_many` solutions instead of one. You will first need to implement the multi-solution version of the oracle matrix, `multisol_oracle_matrix(combos)`, which takes a list of bit strings (representing different solutions) and returns the associated oracle in matrix form."
   ]
  },
  {
   "attachments": {},
   "cell_type": "markdown",
   "metadata": {},
   "source": [
    "The idea of \"making and breaking promises\" refers to the role that global information and assumptions play in the design of quantum algorithms. If there is a specific guarantee (a \"promise\") about the number of solutions to a problem, this can inform the design of the algorithm and help ensure that a solution can be found. However, if such a guarantee is not known in advance, testing in pairs can still reveal global information about the function, such as the parity of the number of solutions. In either case, the promise or the result of pair testing can have a significant impact on the performance and effectiveness of the algorithm."
   ]
  },
  {
   "cell_type": "code",
   "execution_count": 8,
   "metadata": {},
   "outputs": [],
   "source": [
    "n_bits = 4\n",
    "dev = qml.device(\"default.qubit\", wires=n_bits)\n",
    "\n",
    "\n",
    "def multisol_oracle_matrix(combos):\n",
    "    \"\"\"Return the oracle matrix for a set of solutions.\n",
    "\n",
    "    Args:\n",
    "    -----\n",
    "\n",
    "        `combos` (`list[list[int]]`): A list of secret bit strings.\n",
    "\n",
    "    Returns:\n",
    "    --------\n",
    "\n",
    "        `array[float]`: The matrix representation of the oracle.\n",
    "    \"\"\"\n",
    "    indices = [np.ravel_multi_index(combo, [2] * len(combo)) for combo in combos]\n",
    "    my_array = np.identity(2**n_bits)\n",
    "    for i in range(len(combos)):\n",
    "        my_array[indices[i], indices[i]] = -1\n",
    "    return my_array\n",
    "\n",
    "\n",
    "@qml.qnode(dev)\n",
    "def multisol_pair_circuit(x_tilde, combos):\n",
    "    \"\"\"Implements the circuit for testing a pair of combinations labelled by x_tilde.\n",
    "\n",
    "    Args:\n",
    "        x_tilde (list[int]): An (n_bits - 1)-bit string labelling the pair to test.\n",
    "        combos (list[list[int]]): A list of secret bit strings.\n",
    "\n",
    "    Returns:\n",
    "        array[float]: Probabilities on the last qubit.\n",
    "    \"\"\"\n",
    "    for i in range(n_bits - 1):  # Initialize x_tilde part of state\n",
    "        if x_tilde[i] == 1:\n",
    "            qml.PauliX(wires=i)\n",
    "\n",
    "    # Apply circuit\n",
    "    qml.Hadamard(wires=n_bits - 1)\n",
    "    qml.QubitUnitary(multisol_oracle_matrix(combos), wires=list(range(n_bits)))\n",
    "    qml.Hadamard(wires=n_bits - 1)\n",
    "\n",
    "    return qml.probs(wires=n_bits - 1)"
   ]
  },
  {
   "attachments": {},
   "cell_type": "markdown",
   "metadata": {},
   "source": [
    "This code defines a quantum circuit and its supporting functions to test a pair of combinations in the case of multiple solutions. The circuit is meant to work for a quantum device with `n_bits` qubits, where `n_bits` is specified as 4 in this case. The device is initialized using the `qml.device` function and the circuit is defined using the `qml.qnode` decorator.\n",
    "\n",
    "The `multisol_oracle_matrix` function takes as input a list of secret bit strings, called `combos`, and returns the matrix representation of the oracle for those combinations. This matrix is constructed by starting with the identity matrix of size `2**n_bits` and flipping the sign of the diagonal elements corresponding to the indices of the `combos` bit strings.\n",
    "\n",
    "The `multisol_pair_circuit` function implements the circuit to test a pair of combinations. It takes as input a `(n_bits - 1)`-bit string `x_tilde` that labels the pair to test, and the combos list of secret bit strings. The circuit initializes the `x_tilde` part of the state, applies the Hadamard gate to the last qubit, applies the oracle matrix, and then applies the Hadamard gate to the last qubit again. The function returns the probabilities on the last qubit."
   ]
  },
  {
   "attachments": {},
   "cell_type": "markdown",
   "metadata": {},
   "source": [
    "## Codercise A.4.2."
   ]
  },
  {
   "attachments": {},
   "cell_type": "markdown",
   "metadata": {},
   "source": [
    "Use `multisol_pair_circuit(x_tilde, combos)` to create a routine for checking the parity of a lock."
   ]
  },
  {
   "cell_type": "code",
   "execution_count": 9,
   "metadata": {},
   "outputs": [],
   "source": [
    "def parity_checker(combos):\n",
    "    \"\"\"Use `multisol_pair_circuit` to determine the parity of a solution set.\n",
    "\n",
    "    Args:\n",
    "    ------\n",
    "\n",
    "        `combos` (`list[list[int]]`): A list of secret combinations.\n",
    "\n",
    "    Returns:\n",
    "    --------\n",
    "\n",
    "        `int`: The parity of the solution set.\n",
    "    \"\"\"\n",
    "    parity = 0\n",
    "    x_tilde_strs = [np.binary_repr(n, n_bits - 1) for n in range(2 ** (n_bits - 1))]\n",
    "    x_tildes = [[int(s) for s in x_tilde_str] for x_tilde_str in x_tilde_strs]\n",
    "\n",
    "    counter = 0\n",
    "    # IMPLEMENT PARITY COUNTING ALGORITHM\n",
    "    for x_tilde in x_tildes:\n",
    "        if np.isclose(multisol_pair_circuit(x_tilde, combos)[1], 1):\n",
    "            counter += 1\n",
    "\n",
    "    parity = counter % 2\n",
    "\n",
    "    return parity"
   ]
  },
  {
   "attachments": {},
   "cell_type": "markdown",
   "metadata": {},
   "source": [
    "This code implements a quantum algorithm to determine the parity of a set of solutions. It does so by using the quantum circuit defined in `multisol_pair_circuit`, which takes as input a binary string of length `n_bits - 1` and a list of solutions. The function `multisol_pair_circuit` returns the probabilities of the last qubit being in the states $\\ket{0}$ and $\\ket{1}$.\n",
    "\n",
    "The function `parity_checker` takes as input a list of solutions and calculates the parity of the set by using `multisol_pair_circuit` for each possible `n_bits - 1` bit string, referred to as `x_tilde`, and counting the number of times that the last qubit is in the $\\ket{1}$ state. The final parity is calculated as the count of $\\ket{1}$ states modulo 2."
   ]
  },
  {
   "attachments": {},
   "cell_type": "markdown",
   "metadata": {},
   "source": [
    "# A.5 Hadamard transform"
   ]
  },
  {
   "attachments": {},
   "cell_type": "markdown",
   "metadata": {},
   "source": [
    "This text is discussing the Hadamard transform, a multi-qubit operation in quantum computing. It starts by introducing the idea of starting with a uniform superposition on all basis states, applying an oracle, and then applying a Hadamard transform to each qubit. The Hadamard transform is defined as a specific operation on single-qubit basis states, and its effect on a multi-qubit state is given by taking the product of the transformations on each individual qubit. The result of the superposition-oracle-Hadamard transform circuit is given by a messy equation, but it can be shown that the result of this operation does not depend on the secret lock combination, but rather on global properties of the state. The text concludes by discussing the limitations of using this circuit to determine the secret lock combination, as the outcomes are not orthogonal."
   ]
  },
  {
   "attachments": {},
   "cell_type": "markdown",
   "metadata": {},
   "source": [
    "## Codercise A.5.1. "
   ]
  },
  {
   "attachments": {},
   "cell_type": "markdown",
   "metadata": {},
   "source": [
    "Implement the circuit above, consisting of a Hadamard transform, an oracle, and a Hadamard transform. The oracle is provided as `oracle_matrix(combo)`, which you can invoke using the `QubitUnitary()` function.\n",
    "\n",
    "Tip. To implement the Hadamard transform, apply PennyLane's `broadcast()` function instead of a for loop. This applies a unitary multiple times according to a given pattern, and for a specified set of wires."
   ]
  },
  {
   "cell_type": "code",
   "execution_count": 10,
   "metadata": {},
   "outputs": [],
   "source": [
    "n_bits = 4\n",
    "dev = qml.device(\"default.qubit\", wires=n_bits)\n",
    "\n",
    "\n",
    "@qml.qnode(dev)\n",
    "def hoh_circuit(combo):\n",
    "    \"\"\"A circuit which applies Hadamard-oracle-Hadamard and returns probabilities.\n",
    "\n",
    "    Args:\n",
    "    ------\n",
    "\n",
    "        combo (list[int]): A list of bits representing a secret combination.\n",
    "\n",
    "    Returns:\n",
    "    --------\n",
    "\n",
    "        list[float]: Measurement outcome probabilities.\n",
    "    \"\"\"\n",
    "\n",
    "    qml.broadcast(qml.Hadamard, wires=list(range(n_bits)), pattern=\"single\")\n",
    "    qml.QubitUnitary(oracle_matrix(combo), wires=list(range(n_bits)))\n",
    "    qml.broadcast(qml.Hadamard, wires=list(range(n_bits)), pattern=\"single\")\n",
    "    return qml.probs(wires=range(n_bits))"
   ]
  },
  {
   "attachments": {},
   "cell_type": "markdown",
   "metadata": {},
   "source": [
    "The circuit is designed to perform the Hadamard-Oracle-Hadamard (HOH) algorithm and returns the measurement outcome probabilities of a given secret combination.\n",
    "\n",
    "The `hoh_circuit` function takes in an argument `combo`, a list of bits that represent a secret combination. The function then applies the Hadamard gate on all qubits using the `qml.broadcast` function, followed by the oracle operation represented by the `qml.QubitUnitary` function with the oracle matrix obtained from the `oracle_matrix` function and applied to all qubits. Finally, it applies another Hadamard gate on all qubits and returns the outcome probabilities using the `qml.probs` function."
   ]
  },
  {
   "attachments": {},
   "cell_type": "markdown",
   "metadata": {},
   "source": [
    "The output of the circuit remains the same regardless of the secret combination, which makes it difficult to use the circuit to learn the secret combination directly. However, there may still be information that can be learned from the output of the circuit, similar to how the pair-testing algorithm applied to a lock with multiple solutions can still provide information."
   ]
  },
  {
   "attachments": {},
   "cell_type": "markdown",
   "metadata": {},
   "source": [
    "# A.6 Deutsch-Jozsa"
   ]
  },
  {
   "attachments": {},
   "cell_type": "markdown",
   "metadata": {},
   "source": [
    "The Deutsch-Jozsa algorithm has a depth of 2 and makes a single oracle call to determine whether a function is constant or balanced. On the other hand, a deterministic classical algorithm requires exponential function calls to determine the same result, while a probabilistic classical algorithm requires a constant number of random function calls for a fixed error probability. The Deutsch-Jozsa algorithm offers a mild improvement over the probabilistic classical algorithm, providing the correct answer with probability 1."
   ]
  },
  {
   "attachments": {},
   "cell_type": "markdown",
   "metadata": {},
   "source": [
    "## Codercise A.6.1."
   ]
  },
  {
   "attachments": {},
   "cell_type": "markdown",
   "metadata": {},
   "source": [
    "<center>\n",
    "<img src='./img/a.6.1.png' style='width:40%; height:40%;'>\n",
    "</center>"
   ]
  },
  {
   "attachments": {},
   "cell_type": "markdown",
   "metadata": {},
   "source": [
    "Implement the circuit above for a set of solutions `combos`, and return probabilities. As before, you are given `multisol_oracle_matrix(combos)`, which returns the associated oracle in matrix form."
   ]
  },
  {
   "cell_type": "code",
   "execution_count": 11,
   "metadata": {},
   "outputs": [],
   "source": [
    "n_bits = 4\n",
    "dev = qml.device(\"default.qubit\", wires=n_bits)\n",
    "\n",
    "\n",
    "@qml.qnode(dev)\n",
    "def multisol_hoh_circuit(combos):\n",
    "    \"\"\"A circuit which applies Hadamard, multi-solution oracle, then Hadamard.\n",
    "\n",
    "    Args:\n",
    "    ------\n",
    "\n",
    "        `combos` (`list[list[int]]`): A list of secret bit strings.\n",
    "\n",
    "    Returns:\n",
    "    --------\n",
    "\n",
    "        `array[float]`: Probabilities for observing different outcomes.\n",
    "    \"\"\"\n",
    "\n",
    "    qml.broadcast(qml.Hadamard, wires=list(range(n_bits)), pattern=\"single\")\n",
    "    qml.QubitUnitary(multisol_oracle_matrix(combos), wires=list(range(n_bits)))\n",
    "    qml.broadcast(qml.Hadamard, wires=list(range(n_bits)), pattern=\"single\")\n",
    "\n",
    "    return qml.probs(wires=range(n_bits))"
   ]
  },
  {
   "cell_type": "markdown",
   "metadata": {},
   "source": [
    "The function `multisol_hoh_circuit` implements a quantum circuit for the multi-solution Deutsch-Jozsa algorithm. The input to the function is a list of secret bit strings, represented as `combos`.\n",
    "\n",
    "The circuit consists of three steps:\n",
    "\n",
    "* Hadamard operation on each qubit, which prepares the initial state of the qubits in the superposition.\n",
    "* Application of a multi-solution oracle `multisol_oracle_matrix`, which performs a unitary operation on the qubits. This operation is specified by the `combos` input and marks the solutions to the problem.\n",
    "* Another application of Hadamard operation on each qubit, which takes the final state of the qubits back to the computational basis.\n",
    "\n",
    "Finally, the function returns the probabilities of observing different outcomes when measuring the final state of the qubits, which are stored in an array."
   ]
  },
  {
   "attachments": {},
   "cell_type": "markdown",
   "metadata": {},
   "source": [
    "The Deutsch-Jozsa algorithm is a quantum algorithm that can determine whether a given function (oracle) is either constant or balanced. The probability of observing the outcome \"0\" can be used to distinguish between these two cases.\n",
    "\n",
    "When there are no solutions (all combinations are non-solutions), the probability of observing \"0\" is 1. This probability decreases as the number of solutions increases until it reaches 0 at the halfway point (half the combinations are solutions). From there, the probability climbs back up again and reaches 1 when all combinations are solutions.\n",
    "\n",
    "The probability of observing \"0\" can be expressed as , where is the number of solutions and is the total number of combinations. If half the combinations are solutions, then . In this case, the function is considered balanced. If all or none of the combinations are solutions, then or , respectively, and the function is considered constant.\n",
    "\n",
    "If the outcome \"0\" is measured, it indicates that the function is constant. If the outcome \"0\" is not measured, it indicates that the function is balanced."
   ]
  },
  {
   "attachments": {},
   "cell_type": "markdown",
   "metadata": {},
   "source": [
    "## Codercise A.6.2. "
   ]
  },
  {
   "attachments": {},
   "cell_type": "markdown",
   "metadata": {},
   "source": [
    "Implement the Deutsch-Jozsa algorithm. Given a constant or balanced function based on the `promise_var` flag, implement the circuit from above to determine which it is. The function `multisol_hoh_circuit` from the previous exercise is available for you to use."
   ]
  },
  {
   "cell_type": "code",
   "execution_count": 12,
   "metadata": {},
   "outputs": [],
   "source": [
    "def multisol_combo(n_bits, n_combs):\n",
    "    \"\"\"Generate n_combs random combinations of n_bits binary values.\n",
    "\n",
    "    Args:\n",
    "    ------\n",
    "\n",
    "        `n_bits` (int): Number of bits in each combination.\n",
    "        `n_combs` (int): Number of combinations.\n",
    "\n",
    "    Returns:\n",
    "    --------\n",
    "\n",
    "        `list[list[int]]`: A list of combinations, where each combination is a list of binary values.\n",
    "    \"\"\"\n",
    "    return [[random.choice([0, 1]) for i in range(n_bits)] for j in range(n_combs)]"
   ]
  },
  {
   "cell_type": "code",
   "execution_count": 13,
   "metadata": {},
   "outputs": [],
   "source": [
    "def deutsch_jozsa(promise_var):\n",
    "    \"\"\"Implement the Deutsch-Jozsa algorithm and guess the promise variable.\n",
    "\n",
    "    Args:\n",
    "        promise_var (int): Indicates whether the function is balanced (0) or constant (1).\n",
    "\n",
    "    Returns:\n",
    "        int: A guess at the promise variable.\n",
    "    \"\"\"\n",
    "    if promise_var == 0:\n",
    "        how_many = 2 ** (n_bits - 1)\n",
    "    else:\n",
    "        how_many = np.random.choice([0, 2**n_bits])  # Choose all or nothing randomly\n",
    "    combos = multisol_combo(n_bits, how_many)  # Generate random combinations\n",
    "\n",
    "    # Use multisol function to run the Deutsch-Josza circuit, return the value corresponding to a balanced or constant function\n",
    "    if np.isclose(multisol_hoh_circuit(combos)[0], 0):\n",
    "        return 0\n",
    "    else:\n",
    "        return 1"
   ]
  },
  {
   "attachments": {},
   "cell_type": "markdown",
   "metadata": {},
   "source": [
    "This function implements the Deutsch-Jozsa algorithm. It first checks if the `promise_var` input is equal to 0 or 1, and sets the `how_many` variable accordingly. If `promise_var` is 0, then `how_many` is set to `2^(n_bits - 1)` (half of the possible combinations). If `promise_var` is 1, how_many is set to either 0 or `2^n_bits`, chosen randomly.\n",
    "\n",
    "Next, the function generates the combos variable using the `multisol_combo` function, with the number of bits `n_bits` and the number of combinations `how_many`.\n",
    "\n",
    "Finally, the function uses the `multisol_hoh_circuit` to run the Deutsch-Jozsa algorithm and returns 0 if the first element of the output is close to 0, indicating a balanced function, and 1 otherwise, indicating a constant function."
   ]
  },
  {
   "cell_type": "markdown",
   "metadata": {},
   "source": []
  }
 ],
 "metadata": {
  "kernelspec": {
   "display_name": "Python 3",
   "language": "python",
   "name": "python3"
  },
  "language_info": {
   "codemirror_mode": {
    "name": "ipython",
    "version": 3
   },
   "file_extension": ".py",
   "mimetype": "text/x-python",
   "name": "python",
   "nbconvert_exporter": "python",
   "pygments_lexer": "ipython3",
   "version": "3.10.6"
  },
  "orig_nbformat": 4,
  "vscode": {
   "interpreter": {
    "hash": "31f2aee4e71d21fbe5cf8b01ff0e069b9275f58929596ceb00d14d90e3e16cd6"
   }
  }
 },
 "nbformat": 4,
 "nbformat_minor": 2
}
